{
 "cells": [
  {
   "cell_type": "markdown",
   "id": "2cb5a480-84ff-46ec-be8f-46b87c5c28e5",
   "metadata": {},
   "source": [
    "# Overview of GloFas Data Processing Notebook\n",
    "\n",
    "## Introduction\n",
    "\n",
    "This notebook demonstrates the process of accessing, downloading, and processing GloFas (Global Flood Awareness System) data for flood forecasting and analysis using the mcimageprocessing package.\n",
    "\n",
    "## Objective\n",
    "\n",
    "The main objective of this notebook is to provide a practical example of how to programmatically:\n",
    "\n",
    "1. Set up environment configurations for data processing.\n",
    "2. Load and manipulate geospatial boundaries using GeoPandas.\n",
    "3. Interact with Google Earth Engine through an API to enhance data context.\n",
    "4. Download, process, and clip GloFas data to focus on specific areas of interest.\n",
    "5. Prepare the data for further analysis or visualization tasks.\n",
    "\n",
    "## Workflow\n",
    "\n",
    "The workflow of the notebook is structured as follows:\n",
    "- **Setting Up Environment Variables**: Configure the paths necessary for the APIs and processing tools.\n",
    "- **Importing Modules**: Load all necessary Python libraries and custom modules required for processing.\n",
    "- **Loading Geospatial Data**: Read the area of interest defined in a GeoJSON file.\n",
    "- **Initializing Data Managers**: Set up connections to data sources like Google Earth Engine.\n",
    "- **Generating Bounding Box**: Generate a bounding box from the GeoDataFrame to define the area of interest for GloFas data retrieval.\n",
    "- **Retrieving and Processing Data**:\n",
    "    - Set parameters for data retrieval based on GloFas product specifics.\n",
    "    - Download the relevant GloFas data files for the defined time and area.\n",
    "    - Clip the downloaded data to the boundaries of the specified area of interest.\n",
    "- **Post-Processing**:\n",
    "    - Prepare the processed files for analysis, merging if necessary, and ensure they are in a usable format (e.g., TIFF).\n"
   ]
  },
  {
   "cell_type": "markdown",
   "id": "828167cb-6440-4fac-9897-a10ccf0fe1a4",
   "metadata": {},
   "source": [
    "## Step 1: Setting Up Environment Variables\n",
    "\n",
    "### Set the required environment variable for configuration directory. Alternatively, if not set, when mcimageprocessing is imported, it will request the user define a path and subsequently set the path to the config file."
   ]
  },
  {
   "cell_type": "code",
   "id": "fd8f61e5-52da-4e02-83a9-d3db50771e6b",
   "metadata": {},
   "source": [
    "import os\n",
    "\n",
    "# Set environment variable\n",
    "os.environ['CONFIG_DIR'] = # SET PATH TO CONFIG DIRECTORY\n",
    "\n",
    "folder_path = # SET FOLDER PATH FOR DOWNLOADS/PROCESSING\n"
   ],
   "outputs": [],
   "execution_count": null
  },
  {
   "cell_type": "markdown",
   "id": "aee8a02f-a052-4686-b32e-929e2715a285",
   "metadata": {},
   "source": [
    "## Step 2: Importing Necessary Modules\n",
    "\n",
    "### Import the modules needed for processing GloFas data."
   ]
  },
  {
   "cell_type": "code",
   "id": "initial_id",
   "metadata": {},
   "source": [
    "from mcimageprocessing.programmatic.APIs.EarthEngine import EarthEngineManager\n",
    "from mcimageprocessing.programmatic.APIs.GloFasAPI import GloFasAPI\n",
    "from mcimageprocessing.jupyter.JupyterAPI import JupyterAPI\n",
    "from mcimageprocessing.programmatic.shared_functions.utilities import generate_bbox, clip_raster\n",
    "import json\n",
    "import geopandas as gpd"
   ],
   "outputs": [],
   "execution_count": null
  },
  {
   "cell_type": "markdown",
   "id": "e62ab396-1043-49e2-bbb3-d98182757e1a",
   "metadata": {},
   "source": [
    "## Step 3: Loading Geospatial Data\n",
    "\n",
    "### Load geojson geometry to define the area of interest."
   ]
  },
  {
   "cell_type": "code",
   "id": "f30a607c99824117",
   "metadata": {},
   "source": [
    "with open('geometry.geojson', 'r') as fp:\n",
    "    geometry_json = json.load(fp)\n",
    "gdf = gpd.GeoDataFrame.from_features(geometry_json['features'])"
   ],
   "outputs": [],
   "execution_count": null
  },
  {
   "cell_type": "markdown",
   "id": "7f01f74a-b9fa-4b96-8494-086194299528",
   "metadata": {},
   "source": [
    "## Step 4: Initializing GloFas Data Manager\n",
    "\n",
    "### Initialize the GloFas data manager with Earth Engine."
   ]
  },
  {
   "cell_type": "code",
   "id": "138a3d19-a29f-4e8b-adf3-42b5f8350815",
   "metadata": {},
   "source": [
    "glofas = GloFasAPI(ee_manager=EarthEngineManager())"
   ],
   "outputs": [],
   "execution_count": null
  },
  {
   "cell_type": "markdown",
   "id": "4a792dff-b65d-4c32-a602-1405e97775c5",
   "metadata": {},
   "source": [
    "## Step 5: Generating Bounding Box\n",
    "\n",
    "### Generate a bounding box from the GeoDataFrame."
   ]
  },
  {
   "cell_type": "code",
   "id": "56c6950124d1eb75",
   "metadata": {},
   "source": [
    "bbox = generate_bbox(gdf)"
   ],
   "outputs": [],
   "execution_count": null
  },
  {
   "cell_type": "markdown",
   "id": "f287b579-a43a-46f4-9f27-4bff119a31df",
   "metadata": {},
   "source": [
    "## Step 6: Set Params\n",
    "\n",
    "### Set the params for glofas. This can either be static, or can be where looping and/or automation logic can be implemented. For instance, if you are interested in multiple days or months, have this embedded in a for loop with lists of months/days, and then include the glofas.download_glofas_data function and clip function inside the loop."
   ]
  },
  {
   "cell_type": "code",
   "id": "c14e56b8-e6c4-4458-924f-e67e0c38f57b",
   "metadata": {},
   "source": [
    "params = {\n",
    "    'glofas_product': 'cems-glofas-forecast',\n",
    "    'system_version': 'operational',\n",
    "    'hydrological_model': 'lisflood',\n",
    "    'product_type': 'ensemble_perturbed_forecasts',\n",
    "    \"variable\": \"river_discharge_in_the_last_24_hours\",\n",
    "    'year': 2023,\n",
    "    'month': '04',\n",
    "    'day': '01',\n",
    "    'leadtime_hour': [24], \n",
    "    'area': [bbox['miny'][0],\n",
    "            bbox['minx'][0],\n",
    "            bbox['maxy'][0],\n",
    "            bbox['maxx'][0]], \n",
    "    'folder_location': folder_path,\n",
    "    \"format\": \"grib\"\n",
    "}\n"
   ],
   "outputs": [],
   "execution_count": null
  },
  {
   "cell_type": "markdown",
   "id": "b944c9f4-4d6e-402a-bcc1-0d4066ba7ad8",
   "metadata": {},
   "source": [
    "## Step 7: Download GloFas Data\n"
   ]
  },
  {
   "cell_type": "code",
   "id": "93f52b85-a441-4631-848b-732d1ffe1f05",
   "metadata": {},
   "source": [
    "try:\n",
    "    file_path = glofas.download_glofas_data(bbox=bbox, params=params)\n",
    "    print(f\"Data downloaded successfully: {file_path}\")\n",
    "except Exception as e:\n",
    "    print(f\"An error occurred: {str(e)}\")\n"
   ],
   "outputs": [],
   "execution_count": null
  },
  {
   "cell_type": "markdown",
   "id": "010b9ece-3ec9-49f7-b2d7-1fec10d1acbd",
   "metadata": {},
   "source": [
    "## Step 8: Clipping the Raster File\n",
    "\n",
    "### Clip the merged raster file to the boundary of the GeoDataFrame."
   ]
  },
  {
   "cell_type": "code",
   "id": "7f7b473e-ca41-48f5-99dd-4f0a7a1db2e0",
   "metadata": {},
   "source": [
    "clip_raster(file_path, gdf)"
   ],
   "outputs": [],
   "execution_count": null
  },
  {
   "cell_type": "code",
   "id": "3985134b-f48a-414d-980b-40dddbda19f0",
   "metadata": {},
   "source": [],
   "outputs": [],
   "execution_count": null
  }
 ],
 "metadata": {
  "kernelspec": {
   "display_name": "Python 3 (ipykernel)",
   "language": "python",
   "name": "python3"
  },
  "language_info": {
   "codemirror_mode": {
    "name": "ipython",
    "version": 3
   },
   "file_extension": ".py",
   "mimetype": "text/x-python",
   "name": "python",
   "nbconvert_exporter": "python",
   "pygments_lexer": "ipython3",
   "version": "3.11.9"
  }
 },
 "nbformat": 4,
 "nbformat_minor": 5
}
