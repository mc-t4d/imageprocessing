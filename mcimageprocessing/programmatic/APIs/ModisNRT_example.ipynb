{
 "cells": [
  {
   "cell_type": "markdown",
   "id": "2cb5a480-84ff-46ec-be8f-46b87c5c28e5",
   "metadata": {},
   "source": [
    "# Overview of MODIS Near Real-Time (NRT) Data Processing Notebook\n",
    "\n",
    "## Introduction\n",
    "\n",
    "This notebook demonstrates the process of accessing, downloading, and processing MODIS (Moderate Resolution Imaging Spectroradiometer) Near Real-Time (NRT) data for environmental monitoring and analysis using the mcimageprocessing package.\n",
    "\n",
    "## Objective\n",
    "\n",
    "The main objective of this notebook is to provide a practical example of how to programmatically:\n",
    "1. Set up environment configurations for data processing.\n",
    "2. Load and manipulate geospatial boundaries using GeoPandas.\n",
    "3. Interact with Google Earth Engine through an API to fetch MODIS NRT data.\n",
    "4. Download, process, and clip satellite imagery data to focus on specific areas of interest.\n",
    "5. Prepare the data for further analysis or visualization tasks.\n",
    "\n",
    "## Workflow\n",
    "\n",
    "The workflow of the notebook is structured as follows:\n",
    "- **Setting Up Environment Variables**: Configure the paths necessary for the APIs and processing tools.\n",
    "- **Importing Modules**: Load all necessary Python libraries and custom modules required for processing.\n",
    "- **Loading Geospatial Data**: Read the area of interest defined in a GeoJSON file.\n",
    "- **Initializing Data Managers**: Set up connections to data sources like Google Earth Engine.\n",
    "- **Retrieving and Processing Data**:\n",
    "  - Fetch available MODIS NRT data dates.\n",
    "  - Determine the spatial tiles that intersect with the area of interest.\n",
    "  - List and download the relevant MODIS NRT data files.\n",
    "  - Process the downloaded data into a usable format (e.g., TIFF).\n",
    "- **Post-Processing**:\n",
    "  - Merge processed files to create a cohesive dataset.\n",
    "  - Clip the dataset to the boundaries of the specified area of interest.\n",
    "\n",
    "### NRT_DATA_LAYER OPTIONS: \n",
    "1. 'Water Counts 1-Day 250m Grid_Water_Composite'\n",
    "2. 'Water Counts CS 1-Day 250m Grid_Water_Composite'\n",
    "3. 'Valid Counts 1-Day 250m Grid_Water_Composite'\n",
    "4. 'Valid Counts CS 1-Day 250m Grid_Water_Composite'\n",
    "5. 'Flood 1-Day 250m Grid_Water_Composite'\n",
    "6. 'Flood 1-Day CS 250m Grid_Water_Composite'\n",
    "7. 'Water Counts 2-Day 250m Grid_Water_Composite'\n",
    "8. 'Valid Counts 2-Day 250m Grid_Water_Composite'\n",
    "9. 'Flood 2-Day 250m Grid_Water_Composite'\n",
    "10. 'Water Counts 3-Day 250m Grid_Water_Composite'\n",
    "11. 'Valid Counts 3-Day 250m Grid_Water_Composite'\n",
    "12. 'Flood 3-Day 250m Grid_Water_Composite'\n"
   ]
  },
  {
   "cell_type": "markdown",
   "id": "828167cb-6440-4fac-9897-a10ccf0fe1a4",
   "metadata": {},
   "source": [
    "## Step 1: Setting Up Environment Variables\n",
    "\n",
    "### Set the required environment variable for configuration directory. Alternatively, if not set, when mcimageprocessing is imported, it will request the user define a path and subsequently set the path to the config file."
   ]
  },
  {
   "cell_type": "code",
   "id": "fd8f61e5-52da-4e02-83a9-d3db50771e6b",
   "metadata": {},
   "source": [
    "import os\n",
    "\n",
    "# Set environment variable\n",
    "os.environ['CONFIG_DIR'] = # SET PATH TO CONFIG DIRECTORY\n",
    "\n",
    "folder_path = # SET FOLDER PATH FOR DOWNLOADS/PROCESSING\n",
    "\n",
    "NRT_DATA_LAYER = # SET LAYER NAME FOR NRT DATA. EXAMPLE USING Flood 3-Day 250m Grid_Water_Composite"
   ],
   "outputs": [],
   "execution_count": null
  },
  {
   "cell_type": "markdown",
   "id": "aee8a02f-a052-4686-b32e-929e2715a285",
   "metadata": {},
   "source": [
    "## Step 2: Importing Necessary Modules\n",
    "\n",
    "### Import the modules needed for processing MODIS NRT data."
   ]
  },
  {
   "cell_type": "code",
   "id": "initial_id",
   "metadata": {},
   "source": [
    "from mcimageprocessing.programmatic.APIs.EarthEngine import EarthEngineManager\n",
    "from mcimageprocessing.programmatic.APIs.ModisNRT import ModisNRT\n",
    "from mcimageprocessing.jupyter.JupyterAPI import JupyterAPI\n",
    "from mcimageprocessing.programmatic.shared_functions.utilities import generate_bbox, clip_raster\n",
    "import json\n",
    "import geopandas as gpd"
   ],
   "outputs": [],
   "execution_count": null
  },
  {
   "cell_type": "markdown",
   "id": "e62ab396-1043-49e2-bbb3-d98182757e1a",
   "metadata": {},
   "source": [
    "## Step 3: Loading Geospatial Data\n",
    "\n",
    "### Load geojson geometry to define the area of interest."
   ]
  },
  {
   "cell_type": "code",
   "id": "f30a607c99824117",
   "metadata": {},
   "source": [
    "with open('geometry.geojson', 'r') as fp:\n",
    "    geometry_json = json.load(fp)\n",
    "gdf = gpd.GeoDataFrame.from_features(geometry_json['features'])"
   ],
   "outputs": [],
   "execution_count": null
  },
  {
   "cell_type": "markdown",
   "id": "7f01f74a-b9fa-4b96-8494-086194299528",
   "metadata": {},
   "source": [
    "## Step 4: Initializing MODIS NRT Data Manager\n",
    "\n",
    "### Initialize the MODIS Near Real-Time (NRT) data manager with Earth Engine."
   ]
  },
  {
   "cell_type": "code",
   "id": "138a3d19-a29f-4e8b-adf3-42b5f8350815",
   "metadata": {},
   "source": [
    "modis = ModisNRT(ee_manager=EarthEngineManager())"
   ],
   "outputs": [],
   "execution_count": null
  },
  {
   "cell_type": "markdown",
   "id": "4aab1435-5acc-4bb7-ba1e-7901fa7449a2",
   "metadata": {},
   "source": [
    "## Step 5: Retrieving Available MODIS Dates\n",
    "\n",
    "### Retrieve available dates for MODIS NRT data."
   ]
  },
  {
   "cell_type": "code",
   "id": "2d36254a6df875af",
   "metadata": {},
   "source": [
    "available_dates = modis.get_modis_nrt_dates()"
   ],
   "outputs": [],
   "execution_count": null
  },
  {
   "cell_type": "markdown",
   "id": "06d3bc74-178b-4a5e-82f7-60378519a1f5",
   "metadata": {},
   "source": [
    "## Step 6: Generating Bounding Box\n",
    "\n",
    "### Generate a bounding box from the GeoDataFrame."
   ]
  },
  {
   "cell_type": "code",
   "id": "56c6950124d1eb75",
   "metadata": {},
   "source": [
    "bbox = generate_bbox(gdf)"
   ],
   "outputs": [],
   "execution_count": null
  },
  {
   "cell_type": "markdown",
   "id": "eec04c0f-c055-442f-b9ad-da473879b103",
   "metadata": {},
   "source": [
    "## Step 7: Retrieving MODIS Tiles\n",
    "\n",
    "### Get the MODIS tiles that intersect with the bounding box."
   ]
  },
  {
   "cell_type": "code",
   "id": "ccd2ab1099f46bf3",
   "metadata": {},
   "source": [
    "tiles = modis.get_modis_tile(bbox)"
   ],
   "outputs": [],
   "execution_count": null
  },
  {
   "cell_type": "markdown",
   "id": "b68b60ad-df0c-4a66-91eb-de64b874ce13",
   "metadata": {},
   "source": [
    "## Step 8: Listing MODIS Files for Download\n",
    "\n",
    "### List the MODIS NRT files available for download for the specified date and tiles."
   ]
  },
  {
   "cell_type": "code",
   "id": "61782f82-a528-4c51-a02e-f1c35cae1fac",
   "metadata": {},
   "source": [
    "files_for_download = modis.get_modis_nrt_file_list(tiles=tiles, modis_nrt_params={'date': available_dates[0]})"
   ],
   "outputs": [],
   "execution_count": null
  },
  {
   "cell_type": "markdown",
   "id": "75d2a029-0a5a-4380-a369-47521bb09db9",
   "metadata": {},
   "source": [
    "## Step 9: Downloading and Processing MODIS Files\n",
    "\n",
    "### Download and process the MODIS NRT files, converting them to a specified format."
   ]
  },
  {
   "cell_type": "code",
   "id": "21b51676-13e8-4ada-9245-03a2d4d8053b",
   "metadata": {},
   "source": [
    "tif_list = []\n",
    "\n",
    "for file in files_for_download:\n",
    "    modis.download_and_process_modis_nrt(url=file, folder_path=folder_path, \n",
    "                                   hdf_files_to_process=files_for_download, subdataset=NRT_DATA_LAYER,\n",
    "                                        tif_list=tif_list)"
   ],
   "outputs": [],
   "execution_count": null
  },
  {
   "cell_type": "markdown",
   "id": "53194367-3aab-4030-9983-fdc7e809649a",
   "metadata": {},
   "source": [
    "## Step 10: Merging TIFF Files\n",
    "\n",
    "### Merge the processed TIFF files into a single file."
   ]
  },
  {
   "cell_type": "code",
   "id": "6aa184d3-afd8-46ac-8eee-a510914c48d8",
   "metadata": {},
   "source": [
    "merged_file = modis.merge_files(tif_list=tif_list, folder=folder_path)"
   ],
   "outputs": [],
   "execution_count": null
  },
  {
   "cell_type": "markdown",
   "id": "010b9ece-3ec9-49f7-b2d7-1fec10d1acbd",
   "metadata": {},
   "source": [
    "## Step 11: Clipping the Raster File\n",
    "\n",
    "### Clip the merged raster file to the boundary of the GeoDataFrame."
   ]
  },
  {
   "cell_type": "code",
   "id": "7f7b473e-ca41-48f5-99dd-4f0a7a1db2e0",
   "metadata": {},
   "source": [
    "merged_file_path = clip_raster(merged_file, gdf)"
   ],
   "outputs": [],
   "execution_count": null
  },
  {
   "cell_type": "markdown",
   "id": "2c64869d-369e-4db6-a3da-0fbc9a94f73f",
   "metadata": {},
   "source": [
    "## Step 11: Calculate Population in Flood Area\n",
    "\n",
    "### Use the calculate_population_in_flood_area function to calculate the total population in flood area.\n",
    "\n",
    "- **Population Data Type Options**: WorldPop, GPWv4\n",
    "- **Year**: years available include yearly from 2000 to 2020 for WorldPop, and 2000, 2005, 2010, 2015, and 2020 for GPWv4.\n",
    "- **Population Data Source Options**: 'Residential Population', 'Age and Sex Structures' for WorldPop, and 'Population Count' 'Population Density', and 'UN-Adjusted Population Count' for GPWv4."
   ]
  },
  {
   "cell_type": "code",
   "id": "37ce6750-0bc2-4ea4-9c23-cc3399d2afa8",
   "metadata": {},
   "source": [
    "modis.calculate_population_in_flood_area(merged_file_path, year=2020, population_data_type='WorldPop', population_data_source='Residential Population',\n",
    "                                        folder_output=folder_path)"
   ],
   "outputs": [],
   "execution_count": null
  },
  {
   "cell_type": "code",
   "id": "3985134b-f48a-414d-980b-40dddbda19f0",
   "metadata": {},
   "source": [],
   "outputs": [],
   "execution_count": null
  }
 ],
 "metadata": {
  "kernelspec": {
   "display_name": "Python 3 (ipykernel)",
   "language": "python",
   "name": "python3"
  },
  "language_info": {
   "codemirror_mode": {
    "name": "ipython",
    "version": 3
   },
   "file_extension": ".py",
   "mimetype": "text/x-python",
   "name": "python",
   "nbconvert_exporter": "python",
   "pygments_lexer": "ipython3",
   "version": "3.11.9"
  }
 },
 "nbformat": 4,
 "nbformat_minor": 5
}
