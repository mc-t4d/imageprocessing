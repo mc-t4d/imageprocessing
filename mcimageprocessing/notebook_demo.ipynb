{
 "cells": [
  {
   "cell_type": "code",
   "id": "initial_id",
   "metadata": {},
   "source": [
    "from mcimageprocessing.jupyter.JupyterAPI import JupyterAPI"
   ],
   "outputs": [],
   "execution_count": null
  },
  {
   "cell_type": "code",
   "id": "c12313c7ca86279c",
   "metadata": {
    "collapsed": false
   },
   "source": [
    "Map = JupyterAPI()"
   ],
   "outputs": [],
   "execution_count": null
  },
  {
   "cell_type": "code",
   "id": "fb1d0860761f4ec9",
   "metadata": {
    "collapsed": false
   },
   "source": [
    "map_widget, output_widget = Map.get_map_and_output()"
   ],
   "outputs": [],
   "execution_count": null
  },
  {
   "cell_type": "code",
   "id": "b72ef01e103e252b",
   "metadata": {
    "collapsed": false
   },
   "source": [
    "map_widget"
   ],
   "outputs": [],
   "execution_count": null
  },
  {
   "cell_type": "code",
   "id": "17fc94c520828934",
   "metadata": {
    "collapsed": false
   },
   "source": [
    "output_widget"
   ],
   "outputs": [],
   "execution_count": null
  }
 ],
 "metadata": {
  "kernelspec": {
   "display_name": "Python 3 (ipykernel)",
   "language": "python",
   "name": "python3"
  },
  "language_info": {
   "codemirror_mode": {
    "name": "ipython",
    "version": 3
   },
   "file_extension": ".py",
   "mimetype": "text/x-python",
   "name": "python",
   "nbconvert_exporter": "python",
   "pygments_lexer": "ipython3",
   "version": "3.11.0rc1"
  }
 },
 "nbformat": 4,
 "nbformat_minor": 5
}
