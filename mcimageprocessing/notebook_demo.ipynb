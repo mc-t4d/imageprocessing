{
 "cells": [
  {
   "cell_type": "code",
   "execution_count": 2,
   "id": "initial_id",
   "metadata": {
    "ExecuteTime": {
     "end_time": "2024-02-06T12:49:05.023242904Z",
     "start_time": "2024-02-06T12:49:05.008313702Z"
    }
   },
   "outputs": [
    {
     "ename": "ModuleNotFoundError",
     "evalue": "No module named 'mcimageprocessing.jupyter'; 'mcimageprocessing' is not a package",
     "output_type": "error",
     "traceback": [
      "\u001B[0;31m---------------------------------------------------------------------------\u001B[0m",
      "\u001B[0;31mModuleNotFoundError\u001B[0m                       Traceback (most recent call last)",
      "Cell \u001B[0;32mIn[2], line 1\u001B[0m\n\u001B[0;32m----> 1\u001B[0m \u001B[38;5;28;01mfrom\u001B[39;00m \u001B[38;5;21;01mmcimageprocessing\u001B[39;00m\u001B[38;5;21;01m.\u001B[39;00m\u001B[38;5;21;01mjupyter\u001B[39;00m\u001B[38;5;21;01m.\u001B[39;00m\u001B[38;5;21;01mJupyterAPI\u001B[39;00m \u001B[38;5;28;01mimport\u001B[39;00m JupyterAPI\n",
      "\u001B[0;31mModuleNotFoundError\u001B[0m: No module named 'mcimageprocessing.jupyter'; 'mcimageprocessing' is not a package"
     ]
    }
   ],
   "source": [
    "from mcimageprocessing.jupyter.JupyterAPI import JupyterAPI"
   ]
  },
  {
   "cell_type": "code",
   "execution_count": null,
   "id": "c12313c7ca86279c",
   "metadata": {
    "collapsed": false
   },
   "outputs": [],
   "source": [
    "Map = JupyterAPI()"
   ]
  },
  {
   "cell_type": "code",
   "execution_count": null,
   "id": "fb1d0860761f4ec9",
   "metadata": {
    "collapsed": false
   },
   "outputs": [],
   "source": [
    "map_widget, output_widget = Map.get_map_and_output()"
   ]
  },
  {
   "cell_type": "code",
   "execution_count": null,
   "id": "b72ef01e103e252b",
   "metadata": {
    "collapsed": false
   },
   "outputs": [],
   "source": [
    "map_widget"
   ]
  },
  {
   "cell_type": "code",
   "execution_count": null,
   "id": "17fc94c520828934",
   "metadata": {
    "collapsed": false
   },
   "outputs": [],
   "source": [
    "output_widget"
   ]
  }
 ],
 "metadata": {
  "kernelspec": {
   "display_name": "Python 3 (ipykernel)",
   "language": "python",
   "name": "python3"
  },
  "language_info": {
   "codemirror_mode": {
    "name": "ipython",
    "version": 3
   },
   "file_extension": ".py",
   "mimetype": "text/x-python",
   "name": "python",
   "nbconvert_exporter": "python",
   "pygments_lexer": "ipython3",
   "version": "3.11.0rc1"
  }
 },
 "nbformat": 4,
 "nbformat_minor": 5
}
