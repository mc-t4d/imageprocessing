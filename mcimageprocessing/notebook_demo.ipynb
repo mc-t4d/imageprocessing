{
 "cells": [
  {
   "cell_type": "code",
   "execution_count": null,
   "id": "initial_id",
   "metadata": {},
   "outputs": [],
   "source": [
    "from mcimageprocessing.jupyter.JupyterAPI import JupyterAPI"
   ]
  },
  {
   "cell_type": "code",
   "execution_count": null,
   "id": "c12313c7ca86279c",
   "metadata": {
    "collapsed": false
   },
   "outputs": [],
   "source": [
    "Map = JupyterAPI()"
   ]
  },
  {
   "cell_type": "code",
   "execution_count": null,
   "id": "fb1d0860761f4ec9",
   "metadata": {
    "collapsed": false
   },
   "outputs": [],
   "source": [
    "map_widget, output_widget = Map.get_map_and_output()"
   ]
  },
  {
   "cell_type": "code",
   "execution_count": null,
   "id": "b72ef01e103e252b",
   "metadata": {
    "collapsed": false
   },
   "outputs": [],
   "source": [
    "map_widget"
   ]
  },
  {
   "cell_type": "code",
   "execution_count": null,
   "id": "17fc94c520828934",
   "metadata": {
    "collapsed": false
   },
   "outputs": [],
   "source": [
    "output_widget"
   ]
  }
 ],
 "metadata": {
  "kernelspec": {
   "display_name": "Python 3 (ipykernel)",
   "language": "python",
   "name": "python3"
  },
  "language_info": {
   "codemirror_mode": {
    "name": "ipython",
    "version": 3
   },
   "file_extension": ".py",
   "mimetype": "text/x-python",
   "name": "python",
   "nbconvert_exporter": "python",
   "pygments_lexer": "ipython3",
   "version": "3.11.0rc1"
  }
 },
 "nbformat": 4,
 "nbformat_minor": 5
}
